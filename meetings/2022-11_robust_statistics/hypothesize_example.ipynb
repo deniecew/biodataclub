{
 "cells": [
  {
   "cell_type": "code",
   "execution_count": 75,
   "id": "1ac15c01",
   "metadata": {},
   "outputs": [],
   "source": [
    "from hypothesize.measuring_associations import wincor\n",
    "from hypothesize.utilities import create_example_data\n",
    "from hypothesize.utilities import trim_mean\n",
    "from hypothesize.utilities import create_example_data, trim_mean\n",
    "from hypothesize.compare_groups_with_single_factor import l2drmci\n",
    "\n",
    "from sklearn.linear_model import HuberRegressor, LinearRegression\n",
    "from sklearn.datasets import make_regression\n",
    "\n",
    "import pandas as pd\n",
    "import numpy as np\n",
    "import os"
   ]
  },
  {
   "cell_type": "code",
   "execution_count": 76,
   "id": "e0225263",
   "metadata": {},
   "outputs": [
    {
     "data": {
      "text/plain": [
       "12.9375"
      ]
     },
     "execution_count": 76,
     "metadata": {},
     "output_type": "execute_result"
    }
   ],
   "source": [
    "hypothesize.utilities.trim_mean(germany_df.Won, 0.1, axis=0)"
   ]
  },
  {
   "cell_type": "code",
   "execution_count": 77,
   "id": "7715f3b4",
   "metadata": {},
   "outputs": [
    {
     "data": {
      "text/plain": [
       "0.4887435014091407"
      ]
     },
     "execution_count": 77,
     "metadata": {},
     "output_type": "execute_result"
    }
   ],
   "source": [
    "df = create_example_data(2)\n",
    "hypothesize.utilities.trim_mean(df.cell_1, 0.1, axis=0)"
   ]
  },
  {
   "cell_type": "code",
   "execution_count": 78,
   "id": "dc4b363f",
   "metadata": {},
   "outputs": [
    {
     "data": {
      "text/html": [
       "<div>\n",
       "<style scoped>\n",
       "    .dataframe tbody tr th:only-of-type {\n",
       "        vertical-align: middle;\n",
       "    }\n",
       "\n",
       "    .dataframe tbody tr th {\n",
       "        vertical-align: top;\n",
       "    }\n",
       "\n",
       "    .dataframe thead th {\n",
       "        text-align: right;\n",
       "    }\n",
       "</style>\n",
       "<table border=\"1\" class=\"dataframe\">\n",
       "  <thead>\n",
       "    <tr style=\"text-align: right;\">\n",
       "      <th></th>\n",
       "      <th>cell_1</th>\n",
       "      <th>cell_2</th>\n",
       "    </tr>\n",
       "  </thead>\n",
       "  <tbody>\n",
       "    <tr>\n",
       "      <th>0</th>\n",
       "      <td>0.907501</td>\n",
       "      <td>0.324188</td>\n",
       "    </tr>\n",
       "    <tr>\n",
       "      <th>1</th>\n",
       "      <td>0.265920</td>\n",
       "      <td>0.952441</td>\n",
       "    </tr>\n",
       "    <tr>\n",
       "      <th>2</th>\n",
       "      <td>0.296912</td>\n",
       "      <td>0.841176</td>\n",
       "    </tr>\n",
       "    <tr>\n",
       "      <th>3</th>\n",
       "      <td>0.815319</td>\n",
       "      <td>0.337810</td>\n",
       "    </tr>\n",
       "    <tr>\n",
       "      <th>4</th>\n",
       "      <td>0.910513</td>\n",
       "      <td>0.959906</td>\n",
       "    </tr>\n",
       "  </tbody>\n",
       "</table>\n",
       "</div>"
      ],
      "text/plain": [
       "     cell_1    cell_2\n",
       "0  0.907501  0.324188\n",
       "1  0.265920  0.952441\n",
       "2  0.296912  0.841176\n",
       "3  0.815319  0.337810\n",
       "4  0.910513  0.959906"
      ]
     },
     "execution_count": 78,
     "metadata": {},
     "output_type": "execute_result"
    }
   ],
   "source": [
    "df.head()"
   ]
  },
  {
   "cell_type": "code",
   "execution_count": 79,
   "id": "f6b34f34",
   "metadata": {},
   "outputs": [
    {
     "data": {
      "text/plain": [
       "{'ci': [-0.21580316443871547, 0.06532435648577804], 'p_value': 0.272}"
      ]
     },
     "execution_count": 79,
     "metadata": {},
     "output_type": "execute_result"
    }
   ],
   "source": [
    "#Compute a bootstrap confidence interval for a measure of location associated with the distribution of x-y\n",
    "#Compare x and y by looking at all possible difference scores in random samples of the two\n",
    "results=l2drmci(df.cell_1, df.cell_2, trim_mean, .2)\n",
    "results"
   ]
  },
  {
   "cell_type": "code",
   "execution_count": 81,
   "id": "7b190ec4",
   "metadata": {
    "scrolled": true
   },
   "outputs": [
    {
     "name": "stdout",
     "output_type": "stream",
     "text": [
      "{'cor': -0.2569209578501467, 'wcov': -0.012401300700676736, 'sig': 0.07611643858573336, 'nval': 50}\n"
     ]
    }
   ],
   "source": [
    "# creating an example DataFrame with columns \"cell_1\" and \"cell_2\"\n",
    "df=create_example_data(2)\n",
    "\n",
    "results=wincor(df.cell_1, df.cell_2)\n",
    "\n",
    "# returning the correlation, number of observations, p-value, and winsorized covariance\n",
    "print(results)"
   ]
  },
  {
   "cell_type": "code",
   "execution_count": 82,
   "id": "518b44f3",
   "metadata": {},
   "outputs": [],
   "source": [
    "rng = np.random.RandomState(0)\n",
    "X, y, coef = make_regression(n_samples=200, n_features=2, noise=4.0, coef=True, random_state=0)\n",
    "X[:4] = rng.uniform(10, 20, (4, 2))\n",
    "y[:4] = rng.uniform(10, 20, 4)"
   ]
  },
  {
   "cell_type": "code",
   "execution_count": 83,
   "id": "f85981f1",
   "metadata": {},
   "outputs": [
    {
     "data": {
      "text/plain": [
       "-7.28460862351457"
      ]
     },
     "execution_count": 83,
     "metadata": {},
     "output_type": "execute_result"
    }
   ],
   "source": [
    "huber = HuberRegressor().fit(X, y)\n",
    "huber.score(X, y)"
   ]
  },
  {
   "cell_type": "code",
   "execution_count": 84,
   "id": "6f63e9b5",
   "metadata": {},
   "outputs": [
    {
     "data": {
      "text/plain": [
       "array([806.72000092])"
      ]
     },
     "execution_count": 84,
     "metadata": {},
     "output_type": "execute_result"
    }
   ],
   "source": [
    "huber.predict(X[:1,])"
   ]
  },
  {
   "cell_type": "code",
   "execution_count": 85,
   "id": "6179b28e",
   "metadata": {},
   "outputs": [],
   "source": [
    "linear = LinearRegression().fit(X, y)"
   ]
  },
  {
   "cell_type": "code",
   "execution_count": 86,
   "id": "5b21b786",
   "metadata": {},
   "outputs": [
    {
     "name": "stdout",
     "output_type": "stream",
     "text": [
      "True coefficients: [20.4923687  34.16981149]\n"
     ]
    }
   ],
   "source": [
    "print(\"True coefficients:\", coef)"
   ]
  },
  {
   "cell_type": "code",
   "execution_count": 87,
   "id": "5ad0cd21",
   "metadata": {},
   "outputs": [
    {
     "name": "stdout",
     "output_type": "stream",
     "text": [
      "Huber coefficients: [17.79064252 31.01066091]\n"
     ]
    }
   ],
   "source": [
    "print(\"Huber coefficients:\", huber.coef_)"
   ]
  },
  {
   "cell_type": "code",
   "execution_count": 88,
   "id": "1d6e3b2a",
   "metadata": {},
   "outputs": [
    {
     "name": "stdout",
     "output_type": "stream",
     "text": [
      "Linear Regression coefficients: [-1.92210833  7.02266092]\n"
     ]
    }
   ],
   "source": [
    "print(\"Linear Regression coefficients:\", linear.coef_)"
   ]
  },
  {
   "cell_type": "code",
   "execution_count": null,
   "id": "56f42cb2",
   "metadata": {},
   "outputs": [],
   "source": []
  }
 ],
 "metadata": {
  "kernelspec": {
   "display_name": "Python 3",
   "language": "python",
   "name": "python3"
  },
  "language_info": {
   "codemirror_mode": {
    "name": "ipython",
    "version": 3
   },
   "file_extension": ".py",
   "mimetype": "text/x-python",
   "name": "python",
   "nbconvert_exporter": "python",
   "pygments_lexer": "ipython3",
   "version": "3.8.8"
  }
 },
 "nbformat": 4,
 "nbformat_minor": 5
}
